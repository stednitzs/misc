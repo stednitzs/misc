{
 "cells": [
  {
   "cell_type": "code",
   "execution_count": 1,
   "metadata": {},
   "outputs": [],
   "source": [
    "from bokeh.plotting import figure, output_file, output_notebook, show\n",
    "import math\n",
    "import seaborn as sns\n",
    "import matplotlib.pyplot as plt\n",
    "import numpy as np"
   ]
  },
  {
   "cell_type": "code",
   "execution_count": 2,
   "metadata": {},
   "outputs": [],
   "source": [
    "def rotate(x,y,θ,origin):\n",
    "    θ = math.radians(θ)\n",
    "    x_ = x * math.cos(θ) - y * math.sin(θ)\n",
    "    y_ = x * math.sin(θ) + y * math.cos(θ)\n",
    "    x_ += origin[0]; y_ += origin[1]\n",
    "    return x_,y_\n",
    "\n",
    "def line(p1, p2):\n",
    "    a = (p1[1] - p2[1])\n",
    "    b = (p2[0] - p1[0])\n",
    "    c = (p1[0]*p2[1] - p2[0]*p1[1])\n",
    "    return a, b, -c\n",
    "\n",
    "def line_intersection(l1, l2):\n",
    "    D  = l1[0] * l2[1] - l1[1] * l2[0]\n",
    "    Dx = l1[2] * l2[1] - l1[1] * l2[2]\n",
    "    Dy = l1[0] * l2[2] - l1[2] * l2[0]\n",
    "    if D != 0:\n",
    "        x = Dx / D\n",
    "        y = Dy / D\n",
    "        return x,y\n",
    "    else:\n",
    "        return False\n",
    "\n",
    "def error_calc(pt1,pt2,origin):\n",
    "    def arc(pt,origin):\n",
    "        o = np.linalg.norm(np.array([pt1[0],origin[1]])-np.array([pt1[0],pt1[1]]))\n",
    "        h = np.linalg.norm(np.array([origin[0],origin[1]])-np.array([pt1[0],pt1[1]]))\n",
    "        max_θ = np.arcsin(o/h)*0.5\n",
    "        return math.degrees(max_θ)\n",
    "    max1_θ = arc(pt1,origin)\n",
    "    max2_θ = arc(pt2,origin)\n",
    "    return max1_θ,max2_θ"
   ]
  },
  {
   "cell_type": "code",
   "execution_count": 3,
   "metadata": {},
   "outputs": [],
   "source": [
    "ou = 5\n",
    "mirror_size = 2\n",
    "laser_origin = [ou,-20]\n",
    "seglen = 1000\n",
    "las_w = 3\n",
    "\n",
    "dist = 25\n",
    "m1_center = [ou,ou]\n",
    "m2_center = [dist+m1_center[0],ou]\n",
    "m1_θ = 45#3.78*0.5\n",
    "m2_θ = -45\n",
    "\n",
    "pinhole = True\n",
    "pinhole_size = 0.1\n",
    "pinhole_dist = 10\n",
    "pinhole_center = [ou+pinhole_dist,ou]\n",
    "pinhole_edge=(mirror_size/2)-pinhole_size\n",
    "\n",
    "plt.rcParams['figure.figsize'] = [15, 2]\n",
    "\n",
    "#p = figure(x_range=[0,dist+mirror_size+5+m1_center[0]], y_range=(0, mirror_size+m1_center[1]))"
   ]
  },
  {
   "cell_type": "code",
   "execution_count": 4,
   "metadata": {},
   "outputs": [],
   "source": [
    "## mirror distance, mirror size, θ mirror 1, θ mirror 2, pinhole toggle, pinhole distance, pinhole size\n",
    "def refresh(dist,mirror_size,m1_θ,m2_θ,pinhole,pinhole_dist,pinhole_size):\n",
    "    pinhole_pass = False; mirror2_pass=False\n",
    "    m2_center = [dist+m1_center[0],ou]\n",
    "    m1_x1,m1_y1=rotate(-mirror_size/2,0,m1_θ,m1_center)\n",
    "    m1_x2,m1_y2=rotate(mirror_size/2,0,m1_θ,m1_center)\n",
    "\n",
    "    m2_x1,m2_y1=rotate(-mirror_size/2,0,m2_θ,m2_center)\n",
    "    m2_x2,m2_y2=rotate(mirror_size/2,0,m2_θ,m2_center)\n",
    "\n",
    "    refl_θ_1 = math.radians(90-((90-m1_θ)*2))\n",
    "    refl_path_1 = [math.cos(refl_θ_1)*seglen + m1_center[0],math.sin(refl_θ_1)*seglen + m1_center[1]]\n",
    "\n",
    "    line1 = line([m1_center[0],m1_center[1]],[refl_path_1[0],refl_path_1[1]])\n",
    "    line2 = line([m2_x1,m2_y1],[m2_x2,m2_y2])\n",
    "    intercept_x,intercept_y = line_intersection(line1,line2)\n",
    "\n",
    "\n",
    "    refl_θ_2 = 2*math.radians(m2_θ) - refl_θ_1\n",
    "    refl_path_2 = [math.cos(refl_θ_2)*seglen + intercept_x,math.sin(refl_θ_2)*seglen + intercept_y]\n",
    "    ax = sns.scatterplot(x=[laser_origin[0]],y=[laser_origin[1]],color=\"red\",s=50)\n",
    "\n",
    "    if pinhole == True:\n",
    "        pinline = line([ou+pinhole_dist,ou-(pinhole_size/2)],[ou+pinhole_dist,ou+(pinhole_size/2)])\n",
    "        pintercept_x,pintercept_y = line_intersection(line1,pinline)\n",
    "        if pintercept_y <= ou+(pinhole_size/2) and pintercept_y >= ou-(pinhole_size/2):\n",
    "            pinhole_pass = True\n",
    "        pt1 = [ou+pinhole_dist,ou-(pinhole_size/2)]\n",
    "        pt2 = [ou+pinhole_dist,ou+(pinhole_size/2)]\n",
    "        ax.vlines(pt1[0],pt1[1],pt1[1]-pinhole_edge,color=\"blue\",lw=3)\n",
    "        ax.vlines(pt2[0],pt2[1],pt2[1]+pinhole_edge,color=\"blue\",lw=3)\n",
    "        ax.vlines(pt1[0],pt2[1],pt1[1],color=\"pink\",lw=3)\n",
    "        sns.lineplot(x=[m1_center[0],ou+pinhole_dist],y=[m1_center[1],ou-(pinhole_size/2)],color=\"pink\")\n",
    "        sns.lineplot(x=[m1_center[0],ou+pinhole_dist],y=[m1_center[1],ou-(pinhole_size/2)],color=\"pink\")\n",
    "        err=(error_calc(pt1,pt2,m1_center))\n",
    "        print(\"Error tolerance for pinhole size {:.2f}cm at distance {:d}cm is {:.2f}°\".format(pinhole_size,pinhole_dist,err[0]))\n",
    "       \n",
    "\n",
    "    sns.lineplot(x=[m1_x1,m1_x2],y=[m1_y1,m1_y2],linewidth=2,color=\"black\")\n",
    "    sns.scatterplot(x=[m1_center[0]],y=[m1_center[1]],color=\"black\")\n",
    "\n",
    "    sns.lineplot(x=[m2_x1,m2_x2],y=[m2_y1,m2_y2],linewidth=2,color=\"black\")\n",
    "    sns.scatterplot(x=[m2_center[0]],y=[m2_center[1]],color=\"black\")\n",
    "\n",
    "    ### Put in our error tracks here\n",
    "    sns.lineplot(x=[m1_center[0],m2_x2],y=[m1_center[1],m2_y2],linewidth=1,color=\"green\")\n",
    "    sns.lineplot(x=[m1_center[0],m2_x1],y=[m1_center[1],m2_y1],linewidth=1,color=\"green\")\n",
    "\n",
    "    pt1 = [m2_x2,m2_y2]\n",
    "    pt2 = [m2_x1,m2_y1]\n",
    "    err = error_calc(pt1,pt2,m1_center)\n",
    "    print(\"Error tolerance to hit mirror 2 at size {:d}cm and distance {:d}cm is {:.2f}°\".format(int(mirror_size),dist,err[0]))\n",
    "\n",
    "    if intercept_y >= m2_y2 and intercept_y <= m2_y1:\n",
    "        sns.lineplot(x=[m1_center[0],intercept_x],y=[m1_center[1],intercept_y],linewidth=las_w,color=\"red\")\n",
    "        sns.lineplot(x=[intercept_x,refl_path_2[0]],y=[intercept_y,refl_path_2[1]],linewidth=las_w,color=\"red\")\n",
    "    else:\n",
    "        mirror2_pass = False\n",
    "        #print(\"pinhole pass successful\")\n",
    "        sns.lineplot(x=[m1_center[0],refl_path_1[0]],y=[m1_center[1],refl_path_1[1]],linewidth=1,color=\"red\")\n",
    "\n",
    "    ax.vlines(x=laser_origin[0],ymin = laser_origin[1],ymax = m1_center[1],lw=las_w,color=\"red\")\n",
    "    ax.set(xlim=(0,(dist+mirror_size+5+m1_center[0])))\n",
    "    ax.set(ylim=(3,mirror_size+m1_center[1]))\n",
    "    print(\"Mirror 1 θ: {:.2f}, Mirror 2 θ: {:.2f}\".format(m1_θ,m2_θ))\n",
    "    plt.show()"
   ]
  },
  {
   "cell_type": "code",
   "execution_count": 5,
   "metadata": {},
   "outputs": [
    {
     "name": "stdout",
     "output_type": "stream",
     "text": [
      "Error tolerance for pinhole size 0.50cm at distance 5cm is 1.43°\n",
      "Error tolerance to hit mirror 2 at size 2cm and distance 10cm is 1.89°\n",
      "Mirror 1 θ: 45.00, Mirror 2 θ: -45.00\n"
     ]
    },
    {
     "data": {
      "image/png": "[encoded data removed]",
      "text/plain": [
       "<Figure size 1080x144 with 1 Axes>"
      ]
     },
     "metadata": {
      "needs_background": "light"
     },
     "output_type": "display_data"
    },
    {
     "name": "stdout",
     "output_type": "stream",
     "text": [
      "Error tolerance for pinhole size 0.10cm at distance 5cm is 0.29°\n",
      "Error tolerance to hit mirror 2 at size 2cm and distance 100cm is 0.20°\n",
      "Mirror 1 θ: 45.00, Mirror 2 θ: -45.00\n"
     ]
    },
    {
     "data": {
      "image/png": "[encoded data removed]",
      "text/plain": [
       "<Figure size 1080x144 with 1 Axes>"
      ]
     },
     "metadata": {
      "needs_background": "light"
     },
     "output_type": "display_data"
    },
    {
     "name": "stdout",
     "output_type": "stream",
     "text": [
      "Error tolerance for pinhole size 0.10cm at distance 5cm is 0.29°\n",
      "Error tolerance to hit mirror 2 at size 2cm and distance 25cm is 0.79°\n",
      "Mirror 1 θ: 50.00, Mirror 2 θ: -45.00\n"
     ]
    },
    {
     "data": {
      "image/png": "[encoded data removed]",
      "text/plain": [
       "<Figure size 1080x144 with 1 Axes>"
      ]
     },
     "metadata": {
      "needs_background": "light"
     },
     "output_type": "display_data"
    }
   ],
   "source": [
    "## mirror distance, mirror size, θ mirror 1, θ mirror 2, pinhole toggle, pinhole distance, pinhole size\n",
    "refresh(10,2,45,-45,True,5,0.5)\n",
    "refresh(100,2,45,-45,True,5,0.1)\n",
    "refresh(25,2,50,-45,True,5,0.1)"
   ]
  },
  {
   "cell_type": "code",
   "execution_count": null,
   "metadata": {},
   "outputs": [],
   "source": []
  },
  {
   "cell_type": "code",
   "execution_count": null,
   "metadata": {},
   "outputs": [],
   "source": []
  },
  {
   "cell_type": "code",
   "execution_count": null,
   "metadata": {},
   "outputs": [],
   "source": []
  }
 ],
 "metadata": {
  "kernelspec": {
   "display_name": "Python 3",
   "language": "python",
   "name": "python3"
  },
  "language_info": {
   "codemirror_mode": {
    "name": "ipython",
    "version": 3
   },
   "file_extension": ".py",
   "mimetype": "text/x-python",
   "name": "python",
   "nbconvert_exporter": "python",
   "pygments_lexer": "ipython3",
   "version": "3.8.2"
  }
 },
 "nbformat": 4,
 "nbformat_minor": 2
}
